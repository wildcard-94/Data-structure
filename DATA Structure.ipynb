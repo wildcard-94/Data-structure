{
 "cells": [
  {
   "cell_type": "markdown",
   "id": "31d223b1",
   "metadata": {},
   "source": [
    "## Data Structures\n",
    "#### Data is a broad term that refers to all types of information, down to the most basic numbers and strings. In the simple but classic “Hello World!” program, the string \"Hello World!\" is a piece of data. In fact, even the most complex pieces of data usually break down into a bunch of numbers and strings. \n",
    "#### Data structures refer to how data is organized. You’re going to learn how the same data can be organized in a variety of ways.\n",
    "\n",
    "#### Let’s look at the following code:"
   ]
  },
  {
   "cell_type": "code",
   "execution_count": 1,
   "id": "ebbe85db",
   "metadata": {},
   "outputs": [
    {
     "name": "stdout",
     "output_type": "stream",
     "text": [
      "Hello! How are you today?\n"
     ]
    }
   ],
   "source": [
    "x = \"Hello! \"\n",
    "y = \"How are you \"\n",
    "z = \"today?\"\n",
    "\n",
    "print( x + y + z)"
   ]
  },
  {
   "cell_type": "markdown",
   "id": "37d90d15",
   "metadata": {},
   "source": [
    "### 1- ARRAYS"
   ]
  },
  {
   "cell_type": "code",
   "execution_count": 2,
   "id": "bf6f4155",
   "metadata": {},
   "outputs": [
    {
     "name": "stdout",
     "output_type": "stream",
     "text": [
      "Hello! How are you today?\n"
     ]
    }
   ],
   "source": [
    "#Example:1\n",
    "array = [\"Hello! \", \"How are you \", \"today?\"]\n",
    "\n",
    "print (array[0] + array[1] + array[2])"
   ]
  },
  {
   "cell_type": "code",
   "execution_count": 17,
   "id": "b50e4f80",
   "metadata": {
    "scrolled": true
   },
   "outputs": [
    {
     "name": "stdout",
     "output_type": "stream",
     "text": [
      "index Position:  2\n",
      "Array value:  11\n",
      "Access Array value:  111\n",
      "Insert Array value:  [5, 6, 111, 0, 9, 8, 10, 15, 1, 2, 55]\n",
      "Delete Array value:  [5, 6, 111, 0, 9, 8, 10, 15, 1, 2]\n"
     ]
    }
   ],
   "source": [
    "#Example:2\n",
    "rand = [5, 6, 11, 0, 9, 8, 10, 15, 1, 2]\n",
    "idx = 0\n",
    "\n",
    "\n",
    "for i in rand:\n",
    "    if i == 11:\n",
    "        print(\"index Position: \", idx)\n",
    "    idx+=1\n",
    "    \n",
    "print('Array value: ',rand[2]) # Access index=2\n",
    "\n",
    "rand[2] = 111\n",
    "print('Access Array value: ',rand[2])\n",
    "\n",
    "rand.append(55) #insert \n",
    "print('Insert Array value: ',rand)\n",
    "\n",
    "rand.remove(55) #delete\n",
    "print('Delete Array value: ',rand)\n"
   ]
  },
  {
   "cell_type": "markdown",
   "id": "012306e0",
   "metadata": {},
   "source": [
    "## Circular Linked List "
   ]
  },
  {
   "cell_type": "code",
   "execution_count": 3,
   "id": "036e01a2",
   "metadata": {},
   "outputs": [],
   "source": [
    "class Node:\n",
    "    def __init__(self,value=None, next=None, prev = None):\n",
    "        self.value = value\n",
    "        self.next = next\n",
    "        self.prev = prev\n",
    "\n",
    "class LinkedList:\n",
    "    def __init__(self):\n",
    "        self.head = None \n",
    "    def insert():\n",
    "        pass\n",
    "    def delete():\n",
    "        pass\n",
    "        \n",
    "n1 = Node(3)\n",
    "n2 = Node(7)\n",
    "n3 = Node(2)\n",
    "n4 = Node(9)\n",
    "\n",
    "LL = LinkedList()\n",
    "LL.head = n1\n",
    "#LL.head.next = n2\n",
    "#LL.head.next.next = n3\n",
    "n1.next = n2\n",
    "n2.next = n3\n",
    "n3.next = n4\n"
   ]
  },
  {
   "cell_type": "code",
   "execution_count": null,
   "id": "4fd3cc66",
   "metadata": {},
   "outputs": [],
   "source": []
  }
 ],
 "metadata": {
  "kernelspec": {
   "display_name": "Python 3 (ipykernel)",
   "language": "python",
   "name": "python3"
  },
  "language_info": {
   "codemirror_mode": {
    "name": "ipython",
    "version": 3
   },
   "file_extension": ".py",
   "mimetype": "text/x-python",
   "name": "python",
   "nbconvert_exporter": "python",
   "pygments_lexer": "ipython3",
   "version": "3.9.13"
  }
 },
 "nbformat": 4,
 "nbformat_minor": 5
}
