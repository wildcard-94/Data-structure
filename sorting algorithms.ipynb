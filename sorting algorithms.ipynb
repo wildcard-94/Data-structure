{
 "cells": [
  {
   "cell_type": "markdown",
   "id": "7b8cf011",
   "metadata": {},
   "source": [
    "## SORT "
   ]
  },
  {
   "attachments": {},
   "cell_type": "markdown",
   "id": "593ec25f",
   "metadata": {},
   "source": [
    "\n",
    "\n",
    "<div>\n",
    "    <img src=Screenshot%202022-11-20%20132410.png width=\"400\"/>\n",
    "</div>\n"
   ]
  },
  {
   "cell_type": "code",
   "execution_count": 8,
   "id": "d55304cf",
   "metadata": {},
   "outputs": [
    {
     "name": "stdout",
     "output_type": "stream",
     "text": [
      "[10, 29, 14, 37, 14]\n",
      "[10, 14, 29, 37, 14]\n",
      "[10, 14, 29, 14, 37]\n",
      "[10, 14, 14, 29, 37]\n",
      "[10, 14, 14, 29, 37]\n"
     ]
    }
   ],
   "source": [
    "def bubbleSort(arr):\n",
    "    for iter in range(len(arr)):\n",
    "        for index in range (0, len(arr) -1 - iter):\n",
    "            if arr[index] > arr[index +1]:\n",
    "                arr[index], arr[index +1] = arr[index + 1], arr[index]\n",
    "                print(arr)\n",
    "        \n",
    "arr = [29, 10, 14, 37, 14]        \n",
    "bubbleSort(arr)\n",
    "\n",
    "print(arr)"
   ]
  },
  {
   "attachments": {},
   "cell_type": "markdown",
   "id": "bce2c87f",
   "metadata": {},
   "source": [
    "\n",
    "<div>\n",
    "    <img src=Screenshot%202022-11-20%20132332.png width=\"400\"/>\n",
    "</div>"
   ]
  },
  {
   "cell_type": "code",
   "execution_count": 20,
   "id": "48b31941",
   "metadata": {},
   "outputs": [
    {
     "name": "stdout",
     "output_type": "stream",
     "text": [
      "[29, 10, 14, 37, 14]\n",
      "[10, 29, 14, 37, 14]\n",
      "[10, 14, 29, 37, 14]\n",
      "[10, 14, 14, 37, 29]\n",
      "[10, 14, 14, 29, 37]\n"
     ]
    }
   ],
   "source": [
    "def selectionSort(arr):\n",
    "    for i in range(len(arr)):\n",
    "        min_x = i\n",
    "        \n",
    "        for item in range(i+1, len(arr)):\n",
    "            if arr[item] < arr[min_x]:\n",
    "                min_x = item\n",
    "                print(arr)\n",
    "        arr[i], arr[min_x] = arr[min_x], arr[i]\n",
    "      \n",
    "    \n",
    "arr = [29, 10, 14, 37, 14] \n",
    "selectionSort(arr)\n",
    "\n",
    "print(arr)"
   ]
  },
  {
   "attachments": {},
   "cell_type": "markdown",
   "id": "accfbe65",
   "metadata": {},
   "source": [
    "<div>\n",
    "    <img src=Screenshot%202022-11-20%20132232.png width=\"400\"/>\n",
    "</div>"
   ]
  },
  {
   "cell_type": "code",
   "execution_count": 26,
   "id": "635df046",
   "metadata": {},
   "outputs": [
    {
     "name": "stdout",
     "output_type": "stream",
     "text": [
      "[5, 22, 12, 37, 14]\n",
      "[5, 12, 22, 37, 14]\n",
      "[5, 12, 22, 37, 14]\n",
      "[5, 12, 14, 22, 37]\n",
      "[5, 12, 14, 22, 37]\n"
     ]
    }
   ],
   "source": [
    "def insertionSort(arr):\n",
    "    for i in range(1, len(arr)):\n",
    "        key = arr[i]\n",
    "        last = i - 1\n",
    "        \n",
    "        while last >= 0 and key < arr[last]:\n",
    "            arr[last +1] = arr[last]\n",
    "            last = last -1\n",
    "        arr[last + 1] = key\n",
    "        print(arr)\n",
    "arr = [5, 22, 12, 37, 14] \n",
    "insertionSort(arr)\n",
    "\n",
    "print(arr)"
   ]
  },
  {
   "attachments": {},
   "cell_type": "markdown",
   "id": "85eff835",
   "metadata": {},
   "source": [
    "\n",
    "<div>\n",
    "    <img src=Screenshot%202022-11-20%20133818.png width=\"400\"/>\n",
    "</div>"
   ]
  },
  {
   "cell_type": "code",
   "execution_count": null,
   "id": "8eb88702",
   "metadata": {},
   "outputs": [],
   "source": []
  }
 ],
 "metadata": {
  "kernelspec": {
   "display_name": "Python 3 (ipykernel)",
   "language": "python",
   "name": "python3"
  },
  "language_info": {
   "codemirror_mode": {
    "name": "ipython",
    "version": 3
   },
   "file_extension": ".py",
   "mimetype": "text/x-python",
   "name": "python",
   "nbconvert_exporter": "python",
   "pygments_lexer": "ipython3",
   "version": "3.9.13"
  }
 },
 "nbformat": 4,
 "nbformat_minor": 5
}
