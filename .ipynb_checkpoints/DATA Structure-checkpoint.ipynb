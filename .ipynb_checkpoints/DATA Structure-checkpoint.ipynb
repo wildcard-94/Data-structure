{
 "cells": [
  {
   "cell_type": "markdown",
   "id": "31d223b1",
   "metadata": {},
   "source": [
    "## Data Structures\n",
    "#### Data is a broad term that refers to all types of information, down to the most basic numbers and strings. In the simple but classic “Hello World!” program, the string \"Hello World!\" is a piece of data. In fact, even the most complex pieces of data usually break down into a bunch of numbers and strings. \n",
    "#### Data structures refer to how data is organized. You’re going to learn how the same data can be organized in a variety of ways.\n",
    "\n",
    "#### Let’s look at the following code:"
   ]
  },
  {
   "cell_type": "code",
   "execution_count": 1,
   "id": "ebbe85db",
   "metadata": {},
   "outputs": [
    {
     "name": "stdout",
     "output_type": "stream",
     "text": [
      "Hello! How are you today?\n"
     ]
    }
   ],
   "source": [
    "x = \"Hello! \"\n",
    "y = \"How are you \"\n",
    "z = \"today?\"\n",
    "\n",
    "print( x + y + z)"
   ]
  },
  {
   "cell_type": "markdown",
   "id": "37d90d15",
   "metadata": {},
   "source": [
    "### 1- ARRAYS"
   ]
  },
  {
   "cell_type": "code",
   "execution_count": 2,
   "id": "bf6f4155",
   "metadata": {},
   "outputs": [
    {
     "name": "stdout",
     "output_type": "stream",
     "text": [
      "Hello! How are you today?\n"
     ]
    }
   ],
   "source": [
    "#Example:1\n",
    "array = [\"Hello! \", \"How are you \", \"today?\"]\n",
    "\n",
    "print (array[0] + array[1] + array[2])"
   ]
  },
  {
   "cell_type": "code",
   "execution_count": 17,
   "id": "b50e4f80",
   "metadata": {
    "scrolled": false
   },
   "outputs": [
    {
     "name": "stdout",
     "output_type": "stream",
     "text": [
      "index Position:  2\n",
      "Array value:  11\n",
      "Access Array value:  111\n",
      "Insert Array value:  [5, 6, 111, 0, 9, 8, 10, 15, 1, 2, 55]\n",
      "Delete Array value:  [5, 6, 111, 0, 9, 8, 10, 15, 1, 2]\n"
     ]
    }
   ],
   "source": [
    "#Example:2\n",
    "rand = [5, 6, 11, 0, 9, 8, 10, 15, 1, 2]\n",
    "idx = 0\n",
    "\n",
    "\n",
    "for i in rand:\n",
    "    if i == 11:\n",
    "        print(\"index Position: \", idx)\n",
    "    idx+=1\n",
    "    \n",
    "print('Array value: ',rand[2]) # Access index=2\n",
    "\n",
    "rand[2] = 111\n",
    "print('Access Array value: ',rand[2])\n",
    "\n",
    "rand.append(55) #insert \n",
    "print('Insert Array value: ',rand)\n",
    "\n",
    "rand.remove(55) #delete\n",
    "print('Delete Array value: ',rand)\n"
   ]
  },
  {
   "cell_type": "markdown",
   "id": "260665d4",
   "metadata": {},
   "source": [
    "## 2- Stacks "
   ]
  },
  {
   "cell_type": "code",
   "execution_count": 9,
   "id": "ef2854ca",
   "metadata": {},
   "outputs": [
    {
     "name": "stdout",
     "output_type": "stream",
     "text": [
      "Initial stack\n",
      "['a', 'b', 'c']\n",
      "\n",
      "Elements popped from stack:\n",
      "c\n",
      "b\n",
      "a\n",
      "\n",
      "Stack after elements are popped:\n",
      "[]\n"
     ]
    }
   ],
   "source": [
    "# Python program to\n",
    "# demonstrate stack implementation\n",
    "# using list\n",
    "\n",
    "stack = []\n",
    "\n",
    "# append() function to push\n",
    "# element in the stack\n",
    "stack.append('a')\n",
    "stack.append('b')\n",
    "stack.append('c')\n",
    "\n",
    "print('Initial stack')\n",
    "print(stack)\n",
    "\n",
    "# pop() function to pop\n",
    "# element from stack in\n",
    "# LIFO order\n",
    "print('\\nElements popped from stack:')\n",
    "print(stack.pop())\n",
    "print(stack.pop())\n",
    "print(stack.pop())\n",
    "\n",
    "print('\\nStack after elements are popped:')\n",
    "print(stack)\n",
    "\n",
    "# uncommenting print(stack.pop())\n",
    "# will cause an IndexError\n",
    "# as the stack is now empty\n",
    "\n"
   ]
  },
  {
   "cell_type": "markdown",
   "id": "1f630eea",
   "metadata": {},
   "source": [
    "### The same methods on deque"
   ]
  },
  {
   "cell_type": "code",
   "execution_count": 10,
   "id": "05c561d6",
   "metadata": {},
   "outputs": [
    {
     "name": "stdout",
     "output_type": "stream",
     "text": [
      "Initial stack:\n",
      "deque(['a', 'b', 'c'])\n",
      "\n",
      "Elements popped from stack:\n",
      "c\n",
      "b\n",
      "a\n",
      "\n",
      "Stack after elements are popped:\n",
      "deque([])\n"
     ]
    }
   ],
   "source": [
    "# Python program to\n",
    "# demonstrate stack implementation\n",
    "# using collections.deque\n",
    " \n",
    "from collections import deque\n",
    " \n",
    "stack = deque()\n",
    " \n",
    "# append() function to push\n",
    "# element in the stack\n",
    "stack.append('a')\n",
    "stack.append('b')\n",
    "stack.append('c')\n",
    " \n",
    "print('Initial stack:')\n",
    "print(stack)\n",
    " \n",
    "# pop() function to pop\n",
    "# element from stack in\n",
    "# LIFO order\n",
    "print('\\nElements popped from stack:')\n",
    "print(stack.pop())\n",
    "print(stack.pop())\n",
    "print(stack.pop())\n",
    " \n",
    "print('\\nStack after elements are popped:')\n",
    "print(stack)\n",
    " \n",
    "# uncommenting print(stack.pop())\n",
    "# will cause an IndexError\n",
    "# as the stack is now empty"
   ]
  },
  {
   "cell_type": "markdown",
   "id": "ef7e6e60",
   "metadata": {},
   "source": [
    "## 3- queue"
   ]
  },
  {
   "cell_type": "markdown",
   "id": "a54cf003",
   "metadata": {},
   "source": [
    "#### Queue module also has a LIFO Queue, which is basically a Stack. Data is inserted into Queue using the put() function and get() takes data out from the Queue. \n",
    "\n",
    "There are various functions available in this module: \n",
    "\n",
    "- maxsize – Number of items allowed in the queue.\n",
    "- empty() – Return True if the queue is empty, False otherwise.\n",
    "- full() – Return True if there are maxsize items in the queue. If the queue was initialized with maxsize=0 (the default), then - full() never returns True.\n",
    "- get() – Remove and return an item from the queue. If the queue is empty, wait until an item is available.\n",
    "- get_nowait() – Return an item if one is immediately available, else raise QueueEmpty.\n",
    "- put(item) – Put an item into the queue. If the queue is full, wait until a free slot is available before adding the item.\n",
    "- put_nowait(item) – Put an item into the queue without blocking. If no free slot is immediately available, raise QueueFull.\n",
    "- qsize() – Return the number of items in the queue."
   ]
  },
  {
   "cell_type": "code",
   "execution_count": 11,
   "id": "d3f9beb1",
   "metadata": {},
   "outputs": [
    {
     "name": "stdout",
     "output_type": "stream",
     "text": [
      "0\n",
      "Full:  True\n",
      "Size:  3\n",
      "\n",
      "Elements popped from the stack\n",
      "c\n",
      "b\n",
      "a\n",
      "\n",
      "Empty:  True\n"
     ]
    }
   ],
   "source": [
    "# Python program to\n",
    "# demonstrate stack implementation\n",
    "# using queue module\n",
    "\n",
    "from queue import LifoQueue\n",
    "\n",
    "# Initializing a stack\n",
    "stack = LifoQueue(maxsize=3)\n",
    "\n",
    "# qsize() show the number of elements\n",
    "# in the stack\n",
    "print(stack.qsize())\n",
    "\n",
    "# put() function to push\n",
    "# element in the stack\n",
    "stack.put('a')\n",
    "stack.put('b')\n",
    "stack.put('c')\n",
    "\n",
    "print(\"Full: \", stack.full())\n",
    "print(\"Size: \", stack.qsize())\n",
    "\n",
    "# get() function to pop\n",
    "# element from stack in\n",
    "# LIFO order\n",
    "print('\\nElements popped from the stack')\n",
    "print(stack.get())\n",
    "print(stack.get())\n",
    "print(stack.get())\n",
    "\n",
    "print(\"\\nEmpty: \", stack.empty())\n"
   ]
  },
  {
   "cell_type": "markdown",
   "id": "16d9ba09",
   "metadata": {},
   "source": [
    "## 2- LL"
   ]
  },
  {
   "cell_type": "code",
   "execution_count": 5,
   "id": "5c232583",
   "metadata": {},
   "outputs": [],
   "source": [
    "class Node:\n",
    "   def __init__(self, dataval=None):\n",
    "      self.dataval = dataval\n",
    "      self.nextval = None\n",
    "\n",
    "class SLinkedList:\n",
    "   def __init__(self):\n",
    "      self.headval = None\n",
    "\n",
    "list1 = SLinkedList()\n",
    "list1.headval = Node(\"Mon\")\n",
    "e2 = Node(\"Tue\")\n",
    "e3 = Node(\"Wed\")\n",
    "# Link first Node to second node\n",
    "list1.headval.nextval = e2\n",
    "\n",
    "# Link second Node to third node\n",
    "e2.nextval = e3"
   ]
  },
  {
   "cell_type": "code",
   "execution_count": 6,
   "id": "549ba1d6",
   "metadata": {},
   "outputs": [
    {
     "name": "stdout",
     "output_type": "stream",
     "text": [
      "Mon\n",
      "Tue\n",
      "Wed\n"
     ]
    }
   ],
   "source": [
    "class Node:\n",
    "   def __init__(self, dataval=None):\n",
    "      self.dataval = dataval\n",
    "      self.nextval = None\n",
    "\n",
    "class SLinkedList:\n",
    "   def __init__(self):\n",
    "      self.headval = None\n",
    "\n",
    "   def listprint(self):\n",
    "      printval = self.headval\n",
    "      while printval is not None:\n",
    "         print (printval.dataval)\n",
    "         printval = printval.nextval\n",
    "\n",
    "list = SLinkedList()\n",
    "list.headval = Node(\"Mon\")\n",
    "e2 = Node(\"Tue\")\n",
    "e3 = Node(\"Wed\")\n",
    "\n",
    "# Link first Node to second node\n",
    "list.headval.nextval = e2\n",
    "\n",
    "# Link second Node to third node\n",
    "e2.nextval = e3\n",
    "\n",
    "list.listprint()"
   ]
  },
  {
   "cell_type": "code",
   "execution_count": 8,
   "id": "fb04381e",
   "metadata": {},
   "outputs": [
    {
     "ename": "NameError",
     "evalue": "name 'self' is not defined",
     "output_type": "error",
     "traceback": [
      "\u001b[1;31m---------------------------------------------------------------------------\u001b[0m",
      "\u001b[1;31mNameError\u001b[0m                                 Traceback (most recent call last)",
      "\u001b[1;32m~\\AppData\\Local\\Temp\\ipykernel_24424\\2997685877.py\u001b[0m in \u001b[0;36m<module>\u001b[1;34m\u001b[0m\n\u001b[0;32m      4\u001b[0m       \u001b[0mself\u001b[0m\u001b[1;33m.\u001b[0m\u001b[0mnextval\u001b[0m \u001b[1;33m=\u001b[0m \u001b[1;32mNone\u001b[0m\u001b[1;33m\u001b[0m\u001b[1;33m\u001b[0m\u001b[0m\n\u001b[0;32m      5\u001b[0m \u001b[1;33m\u001b[0m\u001b[0m\n\u001b[1;32m----> 6\u001b[1;33m \u001b[1;32mclass\u001b[0m \u001b[0mSLinkedList\u001b[0m\u001b[1;33m:\u001b[0m\u001b[1;33m\u001b[0m\u001b[1;33m\u001b[0m\u001b[0m\n\u001b[0m\u001b[0;32m      7\u001b[0m    \u001b[1;32mdef\u001b[0m \u001b[0m__init__\u001b[0m\u001b[1;33m(\u001b[0m\u001b[0mself\u001b[0m\u001b[1;33m)\u001b[0m\u001b[1;33m:\u001b[0m\u001b[1;33m\u001b[0m\u001b[1;33m\u001b[0m\u001b[0m\n\u001b[0;32m      8\u001b[0m       \u001b[0mself\u001b[0m\u001b[1;33m.\u001b[0m\u001b[0mheadval\u001b[0m \u001b[1;33m=\u001b[0m \u001b[1;32mNone\u001b[0m\u001b[1;33m\u001b[0m\u001b[1;33m\u001b[0m\u001b[0m\n",
      "\u001b[1;32m~\\AppData\\Local\\Temp\\ipykernel_24424\\2997685877.py\u001b[0m in \u001b[0;36mSLinkedList\u001b[1;34m()\u001b[0m\n\u001b[0;32m     17\u001b[0m \u001b[1;33m\u001b[0m\u001b[0m\n\u001b[0;32m     18\u001b[0m \u001b[1;31m# Update the new nodes next val to existing node\u001b[0m\u001b[1;33m\u001b[0m\u001b[1;33m\u001b[0m\u001b[0m\n\u001b[1;32m---> 19\u001b[1;33m    \u001b[0mNewNode\u001b[0m\u001b[1;33m.\u001b[0m\u001b[0mnextval\u001b[0m \u001b[1;33m=\u001b[0m \u001b[0mself\u001b[0m\u001b[1;33m.\u001b[0m\u001b[0mheadval\u001b[0m\u001b[1;33m\u001b[0m\u001b[1;33m\u001b[0m\u001b[0m\n\u001b[0m\u001b[0;32m     20\u001b[0m    \u001b[0mself\u001b[0m\u001b[1;33m.\u001b[0m\u001b[0mheadval\u001b[0m \u001b[1;33m=\u001b[0m \u001b[0mNewNode\u001b[0m\u001b[1;33m\u001b[0m\u001b[1;33m\u001b[0m\u001b[0m\n\u001b[0;32m     21\u001b[0m \u001b[1;33m\u001b[0m\u001b[0m\n",
      "\u001b[1;31mNameError\u001b[0m: name 'self' is not defined"
     ]
    }
   ],
   "source": [
    "class Node:\n",
    "   def __init__(self, dataval=None):\n",
    "      self.dataval = dataval\n",
    "      self.nextval = None\n",
    "\n",
    "class SLinkedList:\n",
    "   def __init__(self):\n",
    "      self.headval = None\n",
    "# Print the linked list\n",
    "   def listprint(self):\n",
    "      printval = self.headval\n",
    "      while printval is not None:\n",
    "         print (printval.dataval)\n",
    "         printval = printval.nextval\n",
    "   def AtBegining(self,newdata):\n",
    "      NewNode = Node(newdata)\n",
    "\n",
    "# Update the new nodes next val to existing node\n",
    "   NewNode.nextval = self.headval\n",
    "   self.headval = NewNode\n",
    "\n",
    "list = SLinkedList()\n",
    "list.headval = Node(\"Mon\")\n",
    "e2 = Node(\"Tue\")\n",
    "e3 = Node(\"Wed\")\n",
    "\n",
    "list.headval.nextval = e2\n",
    "e2.nextval = e3\n",
    "\n",
    "list.AtBegining(\"Sun\")\n",
    "list.listprint()"
   ]
  },
  {
   "cell_type": "markdown",
   "id": "012306e0",
   "metadata": {},
   "source": [
    "## Circular Linked List "
   ]
  },
  {
   "cell_type": "code",
   "execution_count": 3,
   "id": "036e01a2",
   "metadata": {},
   "outputs": [],
   "source": [
    "class Node:\n",
    "    def __init__(self,value=None, next=None, prev = None):\n",
    "        self.value = value\n",
    "        self.next = next\n",
    "        self.prev = prev\n",
    "\n",
    "class LinkedList:\n",
    "    def __init__(self):\n",
    "        self.head = None \n",
    "    def insert():\n",
    "        pass\n",
    "    def delete():\n",
    "        pass\n",
    "        \n",
    "n1 = Node(3)\n",
    "n2 = Node(7)\n",
    "n3 = Node(2)\n",
    "n4 = Node(9)\n",
    "\n",
    "LL = LinkedList()\n",
    "LL.head = n1\n",
    "#LL.head.next = n2\n",
    "#LL.head.next.next = n3\n",
    "n1.next = n2\n",
    "n2.next = n3\n",
    "n3.next = n4\n"
   ]
  },
  {
   "cell_type": "code",
   "execution_count": null,
   "id": "4fd3cc66",
   "metadata": {},
   "outputs": [],
   "source": []
  }
 ],
 "metadata": {
  "kernelspec": {
   "display_name": "Python 3 (ipykernel)",
   "language": "python",
   "name": "python3"
  },
  "language_info": {
   "codemirror_mode": {
    "name": "ipython",
    "version": 3
   },
   "file_extension": ".py",
   "mimetype": "text/x-python",
   "name": "python",
   "nbconvert_exporter": "python",
   "pygments_lexer": "ipython3",
   "version": "3.9.13"
  }
 },
 "nbformat": 4,
 "nbformat_minor": 5
}
